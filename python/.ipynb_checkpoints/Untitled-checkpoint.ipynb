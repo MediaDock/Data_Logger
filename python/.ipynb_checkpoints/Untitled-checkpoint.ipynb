{
 "cells": [
  {
   "cell_type": "markdown",
   "id": "3e84e0cc-15dc-43b6-9dbb-6d90cbfc4831",
   "metadata": {},
   "source": [
    "# Datalogger Analyse"
   ]
  },
  {
   "cell_type": "code",
   "execution_count": 6,
   "id": "a9e0db9d-f8d4-4b8f-bdbd-49ab24aee7cf",
   "metadata": {},
   "outputs": [],
   "source": [
    "import pandas as pd\n",
    "import matplotlib.pyplot as plt"
   ]
  },
  {
   "cell_type": "code",
   "execution_count": 12,
   "id": "658797c8-30af-45ea-8462-841ff1aafe5c",
   "metadata": {},
   "outputs": [
    {
     "data": {
      "text/html": [
       "<div>\n",
       "<style scoped>\n",
       "    .dataframe tbody tr th:only-of-type {\n",
       "        vertical-align: middle;\n",
       "    }\n",
       "\n",
       "    .dataframe tbody tr th {\n",
       "        vertical-align: top;\n",
       "    }\n",
       "\n",
       "    .dataframe thead th {\n",
       "        text-align: right;\n",
       "    }\n",
       "</style>\n",
       "<table border=\"1\" class=\"dataframe\">\n",
       "  <thead>\n",
       "    <tr style=\"text-align: right;\">\n",
       "      <th></th>\n",
       "      <th>Date</th>\n",
       "      <th>Time</th>\n",
       "      <th>SoilHumidity_RAW</th>\n",
       "      <th>SoilHumidity %</th>\n",
       "      <th>Temperature: C°</th>\n",
       "      <th>AirPressure (hPa)</th>\n",
       "      <th>AirHumidity</th>\n",
       "    </tr>\n",
       "  </thead>\n",
       "  <tbody>\n",
       "    <tr>\n",
       "      <th>0</th>\n",
       "      <td>31.01.23</td>\n",
       "      <td>00:00:06</td>\n",
       "      <td>770</td>\n",
       "      <td>5</td>\n",
       "      <td>13</td>\n",
       "      <td>973.08</td>\n",
       "      <td>43</td>\n",
       "    </tr>\n",
       "    <tr>\n",
       "      <th>1</th>\n",
       "      <td>31.01.23</td>\n",
       "      <td>00:00:11</td>\n",
       "      <td>776</td>\n",
       "      <td>3</td>\n",
       "      <td>14</td>\n",
       "      <td>973.07</td>\n",
       "      <td>43</td>\n",
       "    </tr>\n",
       "    <tr>\n",
       "      <th>2</th>\n",
       "      <td>31.01.23</td>\n",
       "      <td>00:00:16</td>\n",
       "      <td>768</td>\n",
       "      <td>5</td>\n",
       "      <td>14</td>\n",
       "      <td>973.04</td>\n",
       "      <td>45</td>\n",
       "    </tr>\n",
       "    <tr>\n",
       "      <th>3</th>\n",
       "      <td>31.01.23</td>\n",
       "      <td>00:00:21</td>\n",
       "      <td>496</td>\n",
       "      <td>62</td>\n",
       "      <td>13</td>\n",
       "      <td>973.03</td>\n",
       "      <td>42</td>\n",
       "    </tr>\n",
       "    <tr>\n",
       "      <th>4</th>\n",
       "      <td>31.01.23</td>\n",
       "      <td>00:00:26</td>\n",
       "      <td>494</td>\n",
       "      <td>63</td>\n",
       "      <td>13</td>\n",
       "      <td>973.07</td>\n",
       "      <td>43</td>\n",
       "    </tr>\n",
       "    <tr>\n",
       "      <th>...</th>\n",
       "      <td>...</td>\n",
       "      <td>...</td>\n",
       "      <td>...</td>\n",
       "      <td>...</td>\n",
       "      <td>...</td>\n",
       "      <td>...</td>\n",
       "      <td>...</td>\n",
       "    </tr>\n",
       "    <tr>\n",
       "      <th>63</th>\n",
       "      <td>31.01.23</td>\n",
       "      <td>00:05:21</td>\n",
       "      <td>783</td>\n",
       "      <td>2</td>\n",
       "      <td>19</td>\n",
       "      <td>973.01</td>\n",
       "      <td>46</td>\n",
       "    </tr>\n",
       "    <tr>\n",
       "      <th>64</th>\n",
       "      <td>31.01.23</td>\n",
       "      <td>00:05:26</td>\n",
       "      <td>783</td>\n",
       "      <td>2</td>\n",
       "      <td>19</td>\n",
       "      <td>972.97</td>\n",
       "      <td>41</td>\n",
       "    </tr>\n",
       "    <tr>\n",
       "      <th>65</th>\n",
       "      <td>31.01.23</td>\n",
       "      <td>00:05:31</td>\n",
       "      <td>782</td>\n",
       "      <td>2</td>\n",
       "      <td>19</td>\n",
       "      <td>972.88</td>\n",
       "      <td>38</td>\n",
       "    </tr>\n",
       "    <tr>\n",
       "      <th>66</th>\n",
       "      <td>31.01.23</td>\n",
       "      <td>00:05:36</td>\n",
       "      <td>781</td>\n",
       "      <td>2</td>\n",
       "      <td>19</td>\n",
       "      <td>972.85</td>\n",
       "      <td>38</td>\n",
       "    </tr>\n",
       "    <tr>\n",
       "      <th>67</th>\n",
       "      <td>31.01.23</td>\n",
       "      <td>00:05:41</td>\n",
       "      <td>761</td>\n",
       "      <td>7</td>\n",
       "      <td>18</td>\n",
       "      <td>972.96</td>\n",
       "      <td>38</td>\n",
       "    </tr>\n",
       "  </tbody>\n",
       "</table>\n",
       "<p>68 rows × 7 columns</p>\n",
       "</div>"
      ],
      "text/plain": [
       "        Date      Time  SoilHumidity_RAW  SoilHumidity %  Temperature: C°  \\\n",
       "0   31.01.23  00:00:06               770               5               13   \n",
       "1   31.01.23  00:00:11               776               3               14   \n",
       "2   31.01.23  00:00:16               768               5               14   \n",
       "3   31.01.23  00:00:21               496              62               13   \n",
       "4   31.01.23  00:00:26               494              63               13   \n",
       "..       ...       ...               ...             ...              ...   \n",
       "63  31.01.23  00:05:21               783               2               19   \n",
       "64  31.01.23  00:05:26               783               2               19   \n",
       "65  31.01.23  00:05:31               782               2               19   \n",
       "66  31.01.23  00:05:36               781               2               19   \n",
       "67  31.01.23  00:05:41               761               7               18   \n",
       "\n",
       "    AirPressure (hPa)  AirHumidity  \n",
       "0              973.08           43  \n",
       "1              973.07           43  \n",
       "2              973.04           45  \n",
       "3              973.03           42  \n",
       "4              973.07           43  \n",
       "..                ...          ...  \n",
       "63             973.01           46  \n",
       "64             972.97           41  \n",
       "65             972.88           38  \n",
       "66             972.85           38  \n",
       "67             972.96           38  \n",
       "\n",
       "[68 rows x 7 columns]"
      ]
     },
     "execution_count": 12,
     "metadata": {},
     "output_type": "execute_result"
    }
   ],
   "source": [
    "df = pd.read_csv(\"./DATA014_GS.CSV\") # diese pfad evtl. anpassen wenn es im colab läuft...\n",
    "df"
   ]
  },
  {
   "cell_type": "code",
   "execution_count": 13,
   "id": "a95c313d-5a62-4bed-b529-41ad65d840d8",
   "metadata": {},
   "outputs": [
    {
     "name": "stderr",
     "output_type": "stream",
     "text": [
      "/Users/gordan.savicic/anaconda3/lib/python3.7/site-packages/ipykernel_launcher.py:2: FutureWarning: Dropping of nuisance columns in DataFrame reductions (with 'numeric_only=None') is deprecated; in a future version this will raise TypeError.  Select only valid columns before calling the reduction.\n",
      "  \n"
     ]
    },
    {
     "data": {
      "text/plain": [
       "SoilHumidity_RAW     581.382353\n",
       "SoilHumidity %        44.088235\n",
       "Temperature: C°       15.764706\n",
       "AirPressure (hPa)    975.167059\n",
       "AirHumidity           54.058824\n",
       "dtype: float64"
      ]
     },
     "execution_count": 13,
     "metadata": {},
     "output_type": "execute_result"
    }
   ],
   "source": [
    "# get averages for all columns\n",
    "df.mean(axis=0)"
   ]
  },
  {
   "cell_type": "markdown",
   "id": "776d1c21-e834-4f0a-9f63-3d48ea54e1e0",
   "metadata": {},
   "source": [
    "# Visualisieren"
   ]
  },
  {
   "cell_type": "code",
   "execution_count": 24,
   "id": "f0ce85ff-2d6e-4194-b7ee-53f96458111f",
   "metadata": {},
   "outputs": [
    {
     "data": {
      "text/plain": [
       "array([<AxesSubplot:>, <AxesSubplot:>, <AxesSubplot:>, <AxesSubplot:>,\n",
       "       <AxesSubplot:>], dtype=object)"
      ]
     },
     "execution_count": 24,
     "metadata": {},
     "output_type": "execute_result"
    },
    {
     "data": {
      "image/png": "[encoded data removed]",
      "text/plain": [
       "<Figure size 432x432 with 5 Axes>"
      ]
     },
     "metadata": {
      "needs_background": "light"
     },
     "output_type": "display_data"
    }
   ],
   "source": [
    "#plt.figure()\n",
    "df.plot(subplots=True, figsize=(6, 6))"
   ]
  },
  {
   "cell_type": "code",
   "execution_count": 23,
   "id": "0ef96bfa-af2c-4734-94e5-1a19d260412b",
   "metadata": {},
   "outputs": [
    {
     "data": {
      "text/plain": [
       "<Figure size 432x288 with 0 Axes>"
      ]
     },
     "metadata": {},
     "output_type": "display_data"
    }
   ],
   "source": [
    "# als SVG speichern\n",
    "df.plot.bar\n",
    "plt.savefig(\"test.svg\")"
   ]
  }
 ],
 "metadata": {
  "kernelspec": {
   "display_name": "Python 3 (ipykernel)",
   "language": "python",
   "name": "python3"
  },
  "language_info": {
   "codemirror_mode": {
    "name": "ipython",
    "version": 3
   },
   "file_extension": ".py",
   "mimetype": "text/x-python",
   "name": "python",
   "nbconvert_exporter": "python",
   "pygments_lexer": "ipython3",
   "version": "3.7.12"
  }
 },
 "nbformat": 4,
 "nbformat_minor": 5
}
